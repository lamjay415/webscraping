{
 "cells": [
  {
   "cell_type": "code",
   "execution_count": 152,
   "metadata": {
    "collapsed": true
   },
   "outputs": [],
   "source": [
    "import requests \n",
    "from bs4 import BeautifulSoup\n",
    "import datetime\n",
    "import cPickle as pickle\n",
    "names = []\n",
    "\n",
    "#check date of the url to see if it was before 12/1/2014\n",
    "#find all caption in the photo and store it into names\n",
    "def getCaptions(u):\n",
    "    url = u\n",
    "    maxDate = datetime.datetime.strptime(\"December 1, 2014\", \"%B %d, %Y\")\n",
    "    response = requests.get(url)\n",
    "    soup = BeautifulSoup(response.text,'html.parser')\n",
    "    date = soup.find_all('div', class_ = 'panel-pane pane-node-created')\n",
    "    if(len(date) > 0):\n",
    "        d = date[0].text \n",
    "        #we only want the full date since it give us the day too\n",
    "        pageDate = d[d.find(',') +1:].strip() \n",
    "        if datetime.datetime.strptime(pageDate, \"%B %d, %Y\") < maxDate :\n",
    "            captions = soup.find_all('div', class_ = 'photocaption')\n",
    "            for caption in captions:\n",
    "                names.append(caption.text)\n",
    "\n",
    "#at the moment there are 31 pages including starting page\n",
    "#we get all the links from the first page\n",
    "#then we loop through the rest of the 30 pages\n",
    "url = \"http://www.newyorksocialdiary.com/party-pictures\"\n",
    "response = requests.get(url)\n",
    "soup = BeautifulSoup(response.text,'html.parser')\n",
    "links = soup.find_all('span', class_ = 'views-field views-field-title')\n",
    "for link in links:\n",
    "    partyUrl = \"http://www.newyorksocialdiary.com\" + link.a.get('href')\n",
    "    getCaptions(partyUrl)\n",
    "for x in range(1,31):\n",
    "    newUrl = url + \"?page=\" + str(x)\n",
    "    response = requests.get(newUrl)\n",
    "    soup = BeautifulSoup(response.text,'html.parser')\n",
    "    links = soup.find_all('span', class_ = 'views-field views-field-title')\n",
    "    for link in links:\n",
    "        partyUrl = \"http://www.newyorksocialdiary.com\" + link.a.get('href')\n",
    "        getCaptions(partyUrl)\n",
    "pickle.dump(names,open(\"save.p\",\"wb\"))"
   ]
  },
  {
   "cell_type": "code",
   "execution_count": 58,
   "metadata": {},
   "outputs": [
    {
     "name": "stdout",
     "output_type": "stream",
     "text": [
      "92058\n"
     ]
    }
   ],
   "source": [
    "import cPickle as pickle\n",
    "captions = pickle.load( open(\"save.p\",\"rb\"))\n",
    "\n",
    "def getNames(list):\n",
    "    filtered = []\n",
    "    for line in list:\n",
    "    #assuming any captions under 250 characters are captions with people's names\n",
    "        if len(line) < 250:\n",
    "            #if statement for a list of people\n",
    "            if \",\" in line or \" and \" in line:\n",
    "                #if statement for 2 people and people with same last name\n",
    "                if \",\" not in line:\n",
    "                    temp = line.split(' ')\n",
    "                    temp2 = line.split(\" and \")\n",
    "                    if temp[1] == \"and\" and len(temp)>3:\n",
    "                        n = temp[0] + \" \" + temp[3]\n",
    "                        filtered.append(n)\n",
    "                        m = temp[2] + \" \" + temp[3]\n",
    "                        filtered.append(m)\n",
    "                    else:\n",
    "                        filtered.append(temp2[0])\n",
    "                        filtered.append(temp2[1])\n",
    "                else:\n",
    "                    #adds list of people into the filter list\n",
    "                    temp = line.split(',')\n",
    "                    for x in temp:\n",
    "                        if \" and \" in x:\n",
    "                            temp2 = x.split(\" \")\n",
    "                            #if statement for people with same last names in a list of people\n",
    "                            if temp2[1] == \"and\" and temp2[0] != \"\" and len(temp2)>3:\n",
    "                                n = temp2[0] + \" \" + temp2[3]\n",
    "                                filtered.append(n)\n",
    "                                m = temp2[2] + \" \" + temp2[3]\n",
    "                                filtered.append(m) \n",
    "                            else:\n",
    "                                filtered.append(x.replace(\" and \", \"\"))\n",
    "                        else:\n",
    "                            filtered.append(x)\n",
    "\n",
    "            else:\n",
    "                #assuming people only have names with 4 words maximum including their titles\n",
    "                #this is for captions with only 1 person in it\n",
    "                temp = line.split(' ')\n",
    "                if len(temp) <= 4:\n",
    "                #check if first and last word is capitalized to see if it is a name or just words\n",
    "                    if(temp[0].isupper and temp[len(temp)-1].isupper):\n",
    "                        filtered.append(line)\n",
    "                \n",
    "    return filtered\n",
    "#list of the titles that I found\n",
    "titles = [\"mayor\",\"son\",\"daughter\",\"grandson\",\"granddaughter\",\"magician\",\"chairman\",\"chair\",\"chairs\",\"cice chairman\",\n",
    "         \"vice chair\", \"chairmen\",\"visitor\",\"gala chairman\",\"congressman\",\"congresswoman\",\"president\",\n",
    "         \"chef\",\"commissioner\",\"actor\",\"actors\",\"actress\",\"actresses\",\"founding chairman\",\"architech\"\n",
    "         \"chief\",\"ceo\",\"wife\",\"husband\",\"fiance\",\"fiancee\"]\n",
    "filter = []\n",
    "for caption in captions:\n",
    "    cap = caption.split()\n",
    "    temp = [word for word in cap if word.lower() not in titles]\n",
    "    filteredName = ' '.join(temp)\n",
    "    filter.append(filteredName)\n",
    "result = getNames(filter)\n",
    "#converted to a set to remove duplicates\n",
    "print len((set(result)))"
   ]
  },
  {
   "cell_type": "code",
   "execution_count": null,
   "metadata": {
    "collapsed": true
   },
   "outputs": [],
   "source": []
  },
  {
   "cell_type": "code",
   "execution_count": null,
   "metadata": {
    "collapsed": true
   },
   "outputs": [],
   "source": []
  }
 ],
 "metadata": {
  "kernelspec": {
   "display_name": "Python 2",
   "language": "python",
   "name": "python2"
  },
  "language_info": {
   "codemirror_mode": {
    "name": "ipython",
    "version": 2
   },
   "file_extension": ".py",
   "mimetype": "text/x-python",
   "name": "python",
   "nbconvert_exporter": "python",
   "pygments_lexer": "ipython2",
   "version": "2.7.14"
  }
 },
 "nbformat": 4,
 "nbformat_minor": 2
}
